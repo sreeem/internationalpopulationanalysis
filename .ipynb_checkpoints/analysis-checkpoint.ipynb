{
 "cells": [
  {
   "cell_type": "code",
   "execution_count": 104,
   "id": "intimate-desire",
   "metadata": {},
   "outputs": [],
   "source": [
    "import numpy as np\n",
    "import pandas as pd\n",
    "import matplotlib.pyplot as plt"
   ]
  },
  {
   "cell_type": "markdown",
   "id": "australian-million",
   "metadata": {},
   "source": [
    "Here I will analyze the world's populationa and answer these questions: <br>\n",
    "1) What Region has the highest population? <br>\n",
    "2) What are the top three and lowest three countries(based on population count)? <br>\n",
    "3) Does the size of the region contribute to population size? <br>"
   ]
  },
  {
   "cell_type": "code",
   "execution_count": 105,
   "id": "timely-arabic",
   "metadata": {},
   "outputs": [
    {
     "data": {
      "text/html": [
       "<div>\n",
       "<style scoped>\n",
       "    .dataframe tbody tr th:only-of-type {\n",
       "        vertical-align: middle;\n",
       "    }\n",
       "\n",
       "    .dataframe tbody tr th {\n",
       "        vertical-align: top;\n",
       "    }\n",
       "\n",
       "    .dataframe thead th {\n",
       "        text-align: right;\n",
       "    }\n",
       "</style>\n",
       "<table border=\"1\" class=\"dataframe\">\n",
       "  <thead>\n",
       "    <tr style=\"text-align: right;\">\n",
       "      <th></th>\n",
       "      <th>Rank</th>\n",
       "      <th>Country</th>\n",
       "      <th>Region</th>\n",
       "      <th>Population</th>\n",
       "      <th>Percentage</th>\n",
       "      <th>Date</th>\n",
       "    </tr>\n",
       "  </thead>\n",
       "  <tbody>\n",
       "    <tr>\n",
       "      <th>0</th>\n",
       "      <td>1</td>\n",
       "      <td>China</td>\n",
       "      <td>Asia</td>\n",
       "      <td>1411778724</td>\n",
       "      <td>17.80%</td>\n",
       "      <td>20-Nov</td>\n",
       "    </tr>\n",
       "    <tr>\n",
       "      <th>1</th>\n",
       "      <td>2</td>\n",
       "      <td>India</td>\n",
       "      <td>Asia</td>\n",
       "      <td>1386141732</td>\n",
       "      <td>17.50%</td>\n",
       "      <td>21-Dec</td>\n",
       "    </tr>\n",
       "    <tr>\n",
       "      <th>2</th>\n",
       "      <td>3</td>\n",
       "      <td>United States</td>\n",
       "      <td>Americas</td>\n",
       "      <td>332960297</td>\n",
       "      <td>4.20%</td>\n",
       "      <td>21-Dec</td>\n",
       "    </tr>\n",
       "    <tr>\n",
       "      <th>3</th>\n",
       "      <td>4</td>\n",
       "      <td>Indonesia</td>\n",
       "      <td>Asia</td>\n",
       "      <td>271350000</td>\n",
       "      <td>3.43%</td>\n",
       "      <td>20-Dec</td>\n",
       "    </tr>\n",
       "    <tr>\n",
       "      <th>4</th>\n",
       "      <td>5</td>\n",
       "      <td>Pakistan</td>\n",
       "      <td>Asia</td>\n",
       "      <td>225200000</td>\n",
       "      <td>2.84%</td>\n",
       "      <td>21-Jul</td>\n",
       "    </tr>\n",
       "    <tr>\n",
       "      <th>...</th>\n",
       "      <td>...</td>\n",
       "      <td>...</td>\n",
       "      <td>...</td>\n",
       "      <td>...</td>\n",
       "      <td>...</td>\n",
       "      <td>...</td>\n",
       "    </tr>\n",
       "    <tr>\n",
       "      <th>236</th>\n",
       "      <td>237</td>\n",
       "      <td>Niue(NewZealand)</td>\n",
       "      <td>Oceania</td>\n",
       "      <td>1549</td>\n",
       "      <td>0%</td>\n",
       "      <td>21-Jul</td>\n",
       "    </tr>\n",
       "    <tr>\n",
       "      <th>237</th>\n",
       "      <td>238</td>\n",
       "      <td>Tokelau(NewZealand)</td>\n",
       "      <td>Oceania</td>\n",
       "      <td>1501</td>\n",
       "      <td>0%</td>\n",
       "      <td>21-Jul</td>\n",
       "    </tr>\n",
       "    <tr>\n",
       "      <th>238</th>\n",
       "      <td>239</td>\n",
       "      <td>VaticanCity</td>\n",
       "      <td>Europe</td>\n",
       "      <td>825</td>\n",
       "      <td>0%</td>\n",
       "      <td>19-Feb</td>\n",
       "    </tr>\n",
       "    <tr>\n",
       "      <th>239</th>\n",
       "      <td>240</td>\n",
       "      <td>Cocos(Keeling)Islands(Australia)</td>\n",
       "      <td>Oceania</td>\n",
       "      <td>573</td>\n",
       "      <td>0%</td>\n",
       "      <td>20-Jun</td>\n",
       "    </tr>\n",
       "    <tr>\n",
       "      <th>240</th>\n",
       "      <td>241</td>\n",
       "      <td>PitcairnIslands(United Kingdom)</td>\n",
       "      <td>Oceania</td>\n",
       "      <td>40</td>\n",
       "      <td>0%</td>\n",
       "      <td>21-Jan</td>\n",
       "    </tr>\n",
       "  </tbody>\n",
       "</table>\n",
       "<p>241 rows × 6 columns</p>\n",
       "</div>"
      ],
      "text/plain": [
       "     Rank                           Country    Region  Population Percentage  \\\n",
       "0       1                             China      Asia  1411778724     17.80%   \n",
       "1       2                             India      Asia  1386141732     17.50%   \n",
       "2       3                     United States  Americas   332960297      4.20%   \n",
       "3       4                         Indonesia      Asia   271350000      3.43%   \n",
       "4       5                          Pakistan      Asia   225200000      2.84%   \n",
       "..    ...                               ...       ...         ...        ...   \n",
       "236   237                  Niue(NewZealand)   Oceania        1549         0%   \n",
       "237   238               Tokelau(NewZealand)   Oceania        1501         0%   \n",
       "238   239                       VaticanCity    Europe         825         0%   \n",
       "239   240  Cocos(Keeling)Islands(Australia)   Oceania         573         0%   \n",
       "240   241   PitcairnIslands(United Kingdom)   Oceania          40         0%   \n",
       "\n",
       "       Date  \n",
       "0    20-Nov  \n",
       "1    21-Dec  \n",
       "2    21-Dec  \n",
       "3    20-Dec  \n",
       "4    21-Jul  \n",
       "..      ...  \n",
       "236  21-Jul  \n",
       "237  21-Jul  \n",
       "238  19-Feb  \n",
       "239  20-Jun  \n",
       "240  21-Jan  \n",
       "\n",
       "[241 rows x 6 columns]"
      ]
     },
     "execution_count": 105,
     "metadata": {},
     "output_type": "execute_result"
    }
   ],
   "source": [
    "world = pd.read_csv('World_Population.csv')\n",
    "world"
   ]
  },
  {
   "cell_type": "markdown",
   "id": "combined-inspection",
   "metadata": {},
   "source": [
    "Before we begin these are the 8 regions of the world as defined by the dhs.gov<br>\n",
    "- Asia <br>\n",
    "- Africa <br>\n",
    "- North America <br>\n",
    "- South America <br>\n",
    "- Central America <br>\n",
    "- Caribbean <br>\n",
    "- Europe <br>\n",
    "- Oceania <br>\n",
    "I will define the countries in the region from this website (https://www.dhs.gov/geographic-regions). <br>\n",
    "The reason I am doing this is because the data does not have the Americas split, and some of the transcontinental countries \n",
    "do not have only one region defined.<br>\n",
    "***the Caribbean and Central America region will not have it's own region since they are subsets of the North America region**"
   ]
  },
  {
   "cell_type": "markdown",
   "id": "functioning-function",
   "metadata": {},
   "source": [
    "# Preparing the Data for Analysis"
   ]
  },
  {
   "cell_type": "code",
   "execution_count": 106,
   "id": "renewable-visit",
   "metadata": {},
   "outputs": [
    {
     "name": "stdout",
     "output_type": "stream",
     "text": [
      "['Asia' 'Americas' 'Africa' 'Europe,Asia' 'Asia,Europe' 'Europe' 'Oceania']\n"
     ]
    }
   ],
   "source": [
    "#this is where we can see the unique region values\n",
    "print(world['Region'].unique())"
   ]
  },
  {
   "cell_type": "code",
   "execution_count": 107,
   "id": "metallic-anchor",
   "metadata": {},
   "outputs": [],
   "source": [
    "world['Region2']=world['Region']\n",
    "world['Region2'] = world['Country'].replace(['Afghanistan', 'Armenia', 'Azerbaijan', 'Bahrain', 'Bangladesh', 'Bhutan', \n",
    "                                            'Brunei', 'Burma', 'Cambodia', 'China', 'Cyprus', 'East Timor', 'Georgia', \n",
    "                                            'Hong Kong', 'India', 'Indonesia', 'Iran', 'Iraq', 'Israel', 'Japan', \n",
    "                                            'Jordan', 'Kazakhstan', 'Kuwait', 'Kyrgyzstan', 'Laos', 'Lebanon', 'Macau', \n",
    "                                            'Malaysia', 'Maldives', 'Mongolia', 'Nepal', 'North Korea', 'Oman', 'Pakistan',\n",
    "                                            'Philippines', 'Qatar', 'Saudi Arabia', 'Singapore', 'South Korea', 'Sri Lanka', \n",
    "                                            'Syria', 'Taiwan', 'Tajikistan', 'Thailand', 'Turkey', 'Turkmenistan', \n",
    "                                            'United Arab Emirates', 'Uzbekistan', 'Vietnam','Yemen'],'Asia')\n",
    "world['Region2'] = world['Region2'].replace(['Anguilla(United Kingdom)', 'AntiguaandBarbuda', 'Aruba(Netherlands)', 'Bahamas', 'Barbados', 'Bermuda(United Kingdom)', \n",
    "                                             'BritishVirginIslands(United Kingdom)', 'CaymanIslands(United Kingdom)', 'Cuba', 'Dominica', 'Dominican Republic',\n",
    "                                             'Grenada', 'Haiti', 'Jamaica', 'Montserrat(United Kingdom)', 'SaintMartin(France)', \n",
    "                                             'SaintBarthélemy(France)', 'PuertoRico(United States)', 'SaintKittsandNevis', 'SaintLucia', \n",
    "                                             'SaintVincentandtheGrenadines', 'Trinidad and Tobago', 'TurksandCaicosIslands(United Kingdom)', \n",
    "                                             'U.S.VirginIslands(United States)',\n",
    "                                             'Belize', 'CostaRica', 'ElSalvador', 'Guatemala', 'Honduras', 'Nicaragua', 'Panama',\n",
    "                                             'Canada', 'Greenland(Denmark)', 'Mexico', 'SaintPierreandMiquelon(France)', 'UnitedStates'],'North America')\n",
    "world['Region2']=world['Region2'].replace(['Algeria', 'Angola', 'Benin', 'Botswana', 'Burkina Faso', 'Burundi', 'Cameroon', 'Cape Verde',\n",
    "                                           'Central African Republic', 'Chad', 'Comoros', 'Democratic Republic of the Congo', 'Djibouti', \n",
    "                                           'Egypt', 'Equatorial Guinea', 'Eritrea', 'Ethiopia', 'Gabon', 'Gambia', 'Ghana', 'Guinea', 'Guinea-Bissau',\n",
    "                                           'Kenya', 'Lesotho', 'Liberia', 'Libya', 'Madagascar', 'Malawi', 'Mali', 'Mauritania', 'Mauritius', 'Morocco',\n",
    "                                           'Mozambique', 'Namibia', 'Niger', 'Nigeria', 'Republic of the Congo', 'Reunion', 'Rwanda', 'Saint Helena',\n",
    "                                           'Sao Tome and Principe', 'Senegal', 'Seychelles', 'Sierra Leone', 'Somalia', 'South Africa', 'South Sudan',\n",
    "                                           'Sudan', 'Swaziland', 'Tanzania', 'Togo', 'Tunisia', 'Uganda', 'Western Sahara', 'Zambia', 'Zimbabwe'],'Africa')\n",
    "world['Region2']=world['Region2'].replace(['Albania', 'Andorra', 'Austria', 'Belarus', 'Belgium', 'Bosnia and Herzegovina', 'Bulgaria', \n",
    "                                           'Croatia', 'Czech Republic', 'Denmark', 'Estonia', 'Finland', 'France', 'Germany', 'Gibraltar', 'Greece', \n",
    "                                           'Holy See', 'Hungary', 'Iceland', 'Ireland', 'Italy', 'Kosovo', 'Latvia', 'Liechtenstein', 'Lithuania', \n",
    "                                           'Luxembourg', 'Macedonia', 'Malta', 'Moldova', 'Monaco', 'Montenegro', 'Netherlands', 'Norway', 'Poland',\n",
    "                                           'Portugal', 'Romania', 'Russia', 'San Marino', 'Slovak Republic', 'Slovenia', 'Spain', 'Serbia',\n",
    "                                           'Serbia and Montenegro', 'Sweden', 'Switzerland', 'Ukraine', 'United Kingdom'],'Europe')\n",
    "world['Region2']=world['Region2'].replace(['American Samoa', 'Australia', 'Christmas Island', 'Cocos (Keeling) Islands', 'Cook Islands', \n",
    "                                           'Federated States of Micronesia','Fiji', 'French Polynesia', 'Guam', 'Kiribati', 'Marshall Islands', \n",
    "                                           'Nauru', 'New Caledonia', 'New Zealand', 'Niue', 'Northern Mariana Islands', 'Palau', 'Papua New Guinea', \n",
    "                                           'Pitcairn Islands', 'Samoa', 'Solomon Islands', 'Tokelau', 'Tonga', 'Tuvalu', \n",
    "                                           'Vanuatu', 'Wallis and Futuna Islands'],'Oceania')\n",
    "world['Region2']=world['Region2'].replace(['Argentina', 'Bolivia', 'Brazil', 'Chile', 'Colombia', 'Ecuador', 'Falkland Islands', 'French Guiana', 'Guyana', 'Paraguay',\n",
    "                                           'Peru', 'Suriname', 'Uruguay', 'Venezuela'],'South America')"
   ]
  },
  {
   "cell_type": "code",
   "execution_count": 108,
   "id": "contemporary-reconstruction",
   "metadata": {},
   "outputs": [
    {
     "name": "stdout",
     "output_type": "stream",
     "text": [
      "['Asia' 'United States' 'South America' 'Africa' 'Europe' 'North America'\n",
      " 'DR Congo' 'SouthAfrica' 'Myanmar' 'SouthKorea' 'IvoryCoast' 'Oceania'\n",
      " 'NorthKorea' 'SriLanka' 'BurkinaFaso' 'SouthSudan' 'PapuaNewGuinea'\n",
      " 'SierraLeone' 'HongKong(China)' 'Congo' 'CentralAfricanRepublic'\n",
      " 'Slovakia' 'Palestine' 'NewZealand' 'BosniaandHerzegovina'\n",
      " 'NorthMacedonia' 'EastTimor' 'Eswatini' 'Macau(China)' 'WesternSahara'\n",
      " 'CapeVerde' 'Transnistria' 'NorthernCyprus' 'FrenchPolynesia(France)'\n",
      " 'NewCaledonia(France)' 'Abkhazia' 'SãoToméandPríncipe'\n",
      " 'Guam(United States)' 'Curaçao(Netherlands)' 'RepublicofArtsakh'\n",
      " 'Jersey(British Crown Dependency)' 'Micronesia'\n",
      " 'IsleofMan(British Crown Dependency)'\n",
      " 'Guernsey(British Crown Dependency)' 'AmericanSamoa(United States)'\n",
      " 'NorthernMarianaIslands(United States)' 'MarshallIslands' 'SouthOssetia'\n",
      " 'FaroeIslands(Denmark)' 'SintMaarten(Netherlands)'\n",
      " 'Gibraltar(United Kingdom)' 'SanMarino' 'Åland(Finland)'\n",
      " 'CookIslands(NewZealand)' 'WallisandFutuna(France)'\n",
      " 'SaintHelena,AscensionandTristandaCunha(United Kingdom)'\n",
      " 'FalklandIslands(United Kingdom)' 'ChristmasIsland(Australia)'\n",
      " 'NorfolkIsland(Australia)' 'Niue(NewZealand)' 'Tokelau(NewZealand)'\n",
      " 'VaticanCity' 'Cocos(Keeling)Islands(Australia)'\n",
      " 'PitcairnIslands(United Kingdom)']\n",
      "['Asia' 'South America' 'Africa' 'Europe' 'North America' 'Oceania']\n"
     ]
    }
   ],
   "source": [
    "print(world['Region2'].unique())\n",
    "#from this I see that there are more Regions than I was expecting, after looking deeper at the column I notice that these\n",
    "#names of countries that didn't have a specific category mentioned, after doing research I found that all of these are \n",
    "#in fact NOT considered countries so I decided to remove them as they were not part of the countries from the \n",
    "#government website that I am referencing to\n",
    "world = world.drop(world[(world.Region2!='South America') & (world.Region2!='North America') & (world.Region2!='Oceania') & (world.Region2!='Europe') & (world.Region2!='Asia') & (world.Region2!='Africa')].index)\n",
    "#run unique values again to see how many regions is in the data\n",
    "print(world['Region2'].unique())\n",
    "#drop columns I don't need\n",
    "world=world.drop('Date',axis=1)\n",
    "world=world.drop('Region',axis=1)"
   ]
  },
  {
   "cell_type": "markdown",
   "id": "viral-replica",
   "metadata": {},
   "source": [
    "# Analysis"
   ]
  },
  {
   "cell_type": "markdown",
   "id": "identical-injury",
   "metadata": {},
   "source": [
    "1) What region has the highest population?"
   ]
  },
  {
   "cell_type": "code",
   "execution_count": 126,
   "id": "affiliated-antigua",
   "metadata": {},
   "outputs": [
    {
     "data": {
      "text/plain": [
       "<AxesSubplot:xlabel='Region2'>"
      ]
     },
     "execution_count": 126,
     "metadata": {},
     "output_type": "execute_result"
    },
    {
     "data": {
      "image/png": "[encoded data removed]",
      "text/plain": [
       "<Figure size 432x288 with 1 Axes>"
      ]
     },
     "metadata": {
      "needs_background": "light"
     },
     "output_type": "display_data"
    }
   ],
   "source": [
    "pop_total = world.groupby(['Region2'])['Population'].sum().fillna(0)\n",
    "pop_total.plot(kind='bar', stacked=True)"
   ]
  },
  {
   "cell_type": "markdown",
   "id": "behind-equity",
   "metadata": {},
   "source": [
    "Here we see that Asia is the region with the highest population. <br>\n",
    "Let's see if the number of countries plays a role into this value."
   ]
  },
  {
   "cell_type": "code",
   "execution_count": null,
   "id": "controlled-moldova",
   "metadata": {},
   "outputs": [],
   "source": [
    "#determine what regions have the most number of countries in this data\n",
    "world.groupby('Region2')['Region'].count().plot(kind = 'bar', legend=True)"
   ]
  },
  {
   "cell_type": "markdown",
   "id": "rational-upset",
   "metadata": {},
   "source": [
    "From the above graph we see that Africa and Asia have a very close number of countries, with Europe and North America coming up close. However, the population of Asia is significantly higher than all the other ones, being over 3 times more than Asia even though they have a very close number of countries in the data. This means that there are more people living in the countries than there are in Africa and all other regions. <br>\n",
    "Another interesting thing is the population size of Oceania is very small compared to all the others."
   ]
  },
  {
   "cell_type": "markdown",
   "id": "insured-special",
   "metadata": {},
   "source": [
    "2) What are the top three and lowest three countries(based on population count)?"
   ]
  },
  {
   "cell_type": "code",
   "execution_count": 110,
   "id": "nasty-staff",
   "metadata": {},
   "outputs": [
    {
     "data": {
      "text/html": [
       "<div>\n",
       "<style scoped>\n",
       "    .dataframe tbody tr th:only-of-type {\n",
       "        vertical-align: middle;\n",
       "    }\n",
       "\n",
       "    .dataframe tbody tr th {\n",
       "        vertical-align: top;\n",
       "    }\n",
       "\n",
       "    .dataframe thead th {\n",
       "        text-align: right;\n",
       "    }\n",
       "</style>\n",
       "<table border=\"1\" class=\"dataframe\">\n",
       "  <thead>\n",
       "    <tr style=\"text-align: right;\">\n",
       "      <th></th>\n",
       "      <th>Rank</th>\n",
       "      <th>Country</th>\n",
       "      <th>Population</th>\n",
       "      <th>Percentage</th>\n",
       "      <th>Region2</th>\n",
       "    </tr>\n",
       "  </thead>\n",
       "  <tbody>\n",
       "    <tr>\n",
       "      <th>0</th>\n",
       "      <td>1</td>\n",
       "      <td>China</td>\n",
       "      <td>1411778724</td>\n",
       "      <td>17.80%</td>\n",
       "      <td>Asia</td>\n",
       "    </tr>\n",
       "    <tr>\n",
       "      <th>1</th>\n",
       "      <td>2</td>\n",
       "      <td>India</td>\n",
       "      <td>1386141732</td>\n",
       "      <td>17.50%</td>\n",
       "      <td>Asia</td>\n",
       "    </tr>\n",
       "    <tr>\n",
       "      <th>3</th>\n",
       "      <td>4</td>\n",
       "      <td>Indonesia</td>\n",
       "      <td>271350000</td>\n",
       "      <td>3.43%</td>\n",
       "      <td>Asia</td>\n",
       "    </tr>\n",
       "    <tr>\n",
       "      <th>229</th>\n",
       "      <td>230</td>\n",
       "      <td>SaintBarthélemy(France)</td>\n",
       "      <td>10124</td>\n",
       "      <td>0.00%</td>\n",
       "      <td>North America</td>\n",
       "    </tr>\n",
       "    <tr>\n",
       "      <th>231</th>\n",
       "      <td>232</td>\n",
       "      <td>SaintPierreandMiquelon(France)</td>\n",
       "      <td>5985</td>\n",
       "      <td>0%</td>\n",
       "      <td>North America</td>\n",
       "    </tr>\n",
       "    <tr>\n",
       "      <th>232</th>\n",
       "      <td>233</td>\n",
       "      <td>Montserrat(United Kingdom)</td>\n",
       "      <td>5000</td>\n",
       "      <td>0%</td>\n",
       "      <td>North America</td>\n",
       "    </tr>\n",
       "  </tbody>\n",
       "</table>\n",
       "</div>"
      ],
      "text/plain": [
       "     Rank                         Country  Population Percentage  \\\n",
       "0       1                           China  1411778724     17.80%   \n",
       "1       2                           India  1386141732     17.50%   \n",
       "3       4                       Indonesia   271350000      3.43%   \n",
       "229   230         SaintBarthélemy(France)       10124      0.00%   \n",
       "231   232  SaintPierreandMiquelon(France)        5985         0%   \n",
       "232   233      Montserrat(United Kingdom)        5000         0%   \n",
       "\n",
       "           Region2  \n",
       "0             Asia  \n",
       "1             Asia  \n",
       "3             Asia  \n",
       "229  North America  \n",
       "231  North America  \n",
       "232  North America  "
      ]
     },
     "execution_count": 110,
     "metadata": {},
     "output_type": "execute_result"
    }
   ],
   "source": [
    "pd.concat([world.head(3), world.tail(3)])"
   ]
  },
  {
   "cell_type": "markdown",
   "id": "major-collar",
   "metadata": {},
   "source": [
    "Here we see that the top three countries with the highest population are China, India, and Indonesia which are all part of the Asia region which had the highest population total. The lowest three populated countries are SaintPierre and Miquelon, Saint Barthélemy, Montserrat which are all part of North America. The top three populated make up more than 38% of the overall world's population where the lowest three don't even make up 1% of the world's population."
   ]
  },
  {
   "cell_type": "markdown",
   "id": "public-ethics",
   "metadata": {},
   "source": [
    "3) Does the size of the region contribute to population size?"
   ]
  },
  {
   "cell_type": "code",
   "execution_count": 122,
   "id": "durable-stereo",
   "metadata": {},
   "outputs": [
    {
     "data": {
      "text/html": [
       "<div>\n",
       "<style scoped>\n",
       "    .dataframe tbody tr th:only-of-type {\n",
       "        vertical-align: middle;\n",
       "    }\n",
       "\n",
       "    .dataframe tbody tr th {\n",
       "        vertical-align: top;\n",
       "    }\n",
       "\n",
       "    .dataframe thead th {\n",
       "        text-align: right;\n",
       "    }\n",
       "</style>\n",
       "<table border=\"1\" class=\"dataframe\">\n",
       "  <thead>\n",
       "    <tr style=\"text-align: right;\">\n",
       "      <th></th>\n",
       "      <th>Rank</th>\n",
       "      <th>Country</th>\n",
       "      <th>Population</th>\n",
       "      <th>Percentage</th>\n",
       "      <th>Region2</th>\n",
       "      <th>Area(km^2)</th>\n",
       "    </tr>\n",
       "  </thead>\n",
       "  <tbody>\n",
       "    <tr>\n",
       "      <th>0</th>\n",
       "      <td>1</td>\n",
       "      <td>China</td>\n",
       "      <td>1411778724</td>\n",
       "      <td>17.80%</td>\n",
       "      <td>Asia</td>\n",
       "      <td>31033131</td>\n",
       "    </tr>\n",
       "    <tr>\n",
       "      <th>1</th>\n",
       "      <td>2</td>\n",
       "      <td>India</td>\n",
       "      <td>1386141732</td>\n",
       "      <td>17.50%</td>\n",
       "      <td>Asia</td>\n",
       "      <td>31033131</td>\n",
       "    </tr>\n",
       "    <tr>\n",
       "      <th>3</th>\n",
       "      <td>4</td>\n",
       "      <td>Indonesia</td>\n",
       "      <td>271350000</td>\n",
       "      <td>3.43%</td>\n",
       "      <td>Asia</td>\n",
       "      <td>31033131</td>\n",
       "    </tr>\n",
       "    <tr>\n",
       "      <th>4</th>\n",
       "      <td>5</td>\n",
       "      <td>Pakistan</td>\n",
       "      <td>225200000</td>\n",
       "      <td>2.84%</td>\n",
       "      <td>Asia</td>\n",
       "      <td>31033131</td>\n",
       "    </tr>\n",
       "    <tr>\n",
       "      <th>5</th>\n",
       "      <td>6</td>\n",
       "      <td>Brazil</td>\n",
       "      <td>214143381</td>\n",
       "      <td>2.70%</td>\n",
       "      <td>South America</td>\n",
       "      <td>17840000</td>\n",
       "    </tr>\n",
       "    <tr>\n",
       "      <th>...</th>\n",
       "      <td>...</td>\n",
       "      <td>...</td>\n",
       "      <td>...</td>\n",
       "      <td>...</td>\n",
       "      <td>...</td>\n",
       "      <td>...</td>\n",
       "    </tr>\n",
       "    <tr>\n",
       "      <th>226</th>\n",
       "      <td>227</td>\n",
       "      <td>Nauru</td>\n",
       "      <td>11832</td>\n",
       "      <td>0.00%</td>\n",
       "      <td>Oceania</td>\n",
       "      <td>8486460</td>\n",
       "    </tr>\n",
       "    <tr>\n",
       "      <th>228</th>\n",
       "      <td>229</td>\n",
       "      <td>Tuvalu</td>\n",
       "      <td>10679</td>\n",
       "      <td>0.00%</td>\n",
       "      <td>Oceania</td>\n",
       "      <td>8486460</td>\n",
       "    </tr>\n",
       "    <tr>\n",
       "      <th>229</th>\n",
       "      <td>230</td>\n",
       "      <td>SaintBarthélemy(France)</td>\n",
       "      <td>10124</td>\n",
       "      <td>0.00%</td>\n",
       "      <td>North America</td>\n",
       "      <td>18651660</td>\n",
       "    </tr>\n",
       "    <tr>\n",
       "      <th>231</th>\n",
       "      <td>232</td>\n",
       "      <td>SaintPierreandMiquelon(France)</td>\n",
       "      <td>5985</td>\n",
       "      <td>0%</td>\n",
       "      <td>North America</td>\n",
       "      <td>18651660</td>\n",
       "    </tr>\n",
       "    <tr>\n",
       "      <th>232</th>\n",
       "      <td>233</td>\n",
       "      <td>Montserrat(United Kingdom)</td>\n",
       "      <td>5000</td>\n",
       "      <td>0%</td>\n",
       "      <td>North America</td>\n",
       "      <td>18651660</td>\n",
       "    </tr>\n",
       "  </tbody>\n",
       "</table>\n",
       "<p>183 rows × 6 columns</p>\n",
       "</div>"
      ],
      "text/plain": [
       "     Rank                         Country  Population Percentage  \\\n",
       "0       1                           China  1411778724     17.80%   \n",
       "1       2                           India  1386141732     17.50%   \n",
       "3       4                       Indonesia   271350000      3.43%   \n",
       "4       5                        Pakistan   225200000      2.84%   \n",
       "5       6                          Brazil   214143381      2.70%   \n",
       "..    ...                             ...         ...        ...   \n",
       "226   227                           Nauru       11832      0.00%   \n",
       "228   229                          Tuvalu       10679      0.00%   \n",
       "229   230         SaintBarthélemy(France)       10124      0.00%   \n",
       "231   232  SaintPierreandMiquelon(France)        5985         0%   \n",
       "232   233      Montserrat(United Kingdom)        5000         0%   \n",
       "\n",
       "           Region2  Area(km^2)  \n",
       "0             Asia    31033131  \n",
       "1             Asia    31033131  \n",
       "3             Asia    31033131  \n",
       "4             Asia    31033131  \n",
       "5    South America    17840000  \n",
       "..             ...         ...  \n",
       "226        Oceania     8486460  \n",
       "228        Oceania     8486460  \n",
       "229  North America    18651660  \n",
       "231  North America    18651660  \n",
       "232  North America    18651660  \n",
       "\n",
       "[183 rows x 6 columns]"
      ]
     },
     "execution_count": 122,
     "metadata": {},
     "output_type": "execute_result"
    }
   ],
   "source": [
    "#need to add to data frame the size of the regions\n",
    "def categorise(row):  \n",
    "    if row['Region2'] == 'Asia':\n",
    "        return 31033131\n",
    "    elif row['Region2'] == 'Oceania':\n",
    "        return 8486460\n",
    "    elif row['Region2'] =='Africa':\n",
    "        return 29648481\n",
    "    elif row['Region2'] =='Europe':\n",
    "        return 22134900\n",
    "    elif row['Region2'] =='North America':\n",
    "        return 18651660\n",
    "    elif row['Region2'] =='South America':\n",
    "        return 17840000\n",
    "    return '-'\n",
    "world['Area(km^2)'] = world.apply(lambda row: categorise(row), axis=1)\n",
    "world"
   ]
  },
  {
   "cell_type": "code",
   "execution_count": 137,
   "id": "secondary-translation",
   "metadata": {},
   "outputs": [
    {
     "data": {
      "text/plain": [
       "<AxesSubplot:xlabel='Region2'>"
      ]
     },
     "execution_count": 137,
     "metadata": {},
     "output_type": "execute_result"
    },
    {
     "data": {
      "image/png": "[encoded data removed]",
      "text/plain": [
       "<Figure size 432x288 with 1 Axes>"
      ]
     },
     "metadata": {
      "needs_background": "light"
     },
     "output_type": "display_data"
    }
   ],
   "source": [
    "#now need to plot the region with its population and area side by side\n",
    "pop_total = world.groupby(['Region2'])['Area(km^2)'].max().fillna(0)\n",
    "pop_total.plot(kind='bar', stacked=True)"
   ]
  },
  {
   "cell_type": "markdown",
   "id": "golden-forest",
   "metadata": {},
   "source": [
    "From the above chart the size of the regions is as listed below from largest to smallest:<br>\n",
    "- Asia <br>\n",
    "- Africa <br>\n",
    "- Europe <br> \n",
    "- North America <br>\n",
    "- South America <br>\n",
    "- Oceania <br>\n",
    "And the rank based on population size from most to least is: <br>\n",
    "- Asia <br>\n",
    "- Africa <br>\n",
    "- Europse <br> \n",
    "- South America <br>\n",
    "- North America <br>\n",
    "- Oceania <br>\n",
    "<br>\n",
    "<br>\n",
    "This answers my third and final question, we see that four out of the six countries population size corresponds with their area. Meaning the bigger the region the higher the population, this is not true for North and South America but their values are very close. So, I can conclude that for the most part the larger the region is the more populated it may be. "
   ]
  }
 ],
 "metadata": {
  "kernelspec": {
   "display_name": "Python 3",
   "language": "python",
   "name": "python3"
  },
  "language_info": {
   "codemirror_mode": {
    "name": "ipython",
    "version": 3
   },
   "file_extension": ".py",
   "mimetype": "text/x-python",
   "name": "python",
   "nbconvert_exporter": "python",
   "pygments_lexer": "ipython3",
   "version": "3.9.1"
  }
 },
 "nbformat": 4,
 "nbformat_minor": 5
}
